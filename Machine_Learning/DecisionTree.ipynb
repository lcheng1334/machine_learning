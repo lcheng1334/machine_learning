{
 "cells": [
  {
   "cell_type": "code",
   "execution_count": 2,
   "metadata": {
    "ExecuteTime": {
     "start_time": "2024-09-12T15:46:03.310535Z",
     "end_time": "2024-09-12T15:46:04.250069Z"
    },
    "collapsed": true
   },
   "outputs": [],
   "source": [
    "import pandas as pd"
   ]
  },
  {
   "cell_type": "code",
   "execution_count": 3,
   "metadata": {
    "ExecuteTime": {
     "start_time": "2024-09-12T15:46:04.250069Z",
     "end_time": "2024-09-12T15:46:04.328278Z"
    },
    "collapsed": false
   },
   "outputs": [],
   "source": [
    "# 读取路径\n",
    "melbourne_file_path = \"D:\\code\\skill\\Machine_Learning\\melb_data.csv\"\n",
    "# 读取文件\n",
    "melbourne_data = pd.read_csv(melbourne_file_path)"
   ]
  },
  {
   "cell_type": "code",
   "execution_count": 4,
   "metadata": {
    "ExecuteTime": {
     "start_time": "2024-09-12T15:46:04.328278Z",
     "end_time": "2024-09-12T15:46:04.343832Z"
    },
    "collapsed": false
   },
   "outputs": [
    {
     "data": {
      "text/plain": "Index(['Suburb', 'Address', 'Rooms', 'Type', 'Price', 'Method', 'SellerG',\n       'Date', 'Distance', 'Postcode', 'Bedroom2', 'Bathroom', 'Car',\n       'Landsize', 'BuildingArea', 'YearBuilt', 'CouncilArea', 'Lattitude',\n       'Longtitude', 'Regionname', 'Propertycount'],\n      dtype='object')"
     },
     "execution_count": 4,
     "metadata": {},
     "output_type": "execute_result"
    }
   ],
   "source": [
    "melbourne_data.columns"
   ]
  },
  {
   "cell_type": "markdown",
   "metadata": {},
   "source": [
    "墨尔本数据有一些缺失值（一些房屋的一些变量没有记录。）\n",
    "我们将在后面的教程中学习处理缺失值。\n",
    "您的爱荷华州数据在您使用的列中没有缺失值。\n",
    "所以我们现在将采取最简单的选择，从我们的数据中删除房屋。\n",
    "现在不用担心这么多，尽管代码是：\n",
    "dropna 删除缺失值（将 na 视为“不可用”）"
   ]
  },
  {
   "cell_type": "code",
   "execution_count": 5,
   "metadata": {
    "ExecuteTime": {
     "start_time": "2024-09-12T15:46:04.350257Z",
     "end_time": "2024-09-12T15:46:04.413085Z"
    },
    "collapsed": false
   },
   "outputs": [],
   "source": [
    "\n",
    "melbourne_data = melbourne_data.dropna(axis=0) # axis=0处理的为列"
   ]
  },
  {
   "cell_type": "code",
   "execution_count": 6,
   "metadata": {
    "ExecuteTime": {
     "start_time": "2024-09-12T15:46:04.366240Z",
     "end_time": "2024-09-12T15:46:04.432109Z"
    },
    "collapsed": false
   },
   "outputs": [],
   "source": [
    "# 我们将使用点符号来选择我们想要预测的列，这称为预测目标。\n",
    "# 按照惯例，预测目标称为 y。\n",
    "# 所以我们需要保存墨尔本数据中的房价的代码是\n",
    "y = melbourne_data.Price"
   ]
  },
  {
   "cell_type": "code",
   "execution_count": 7,
   "metadata": {
    "ExecuteTime": {
     "start_time": "2024-09-12T15:46:04.381757Z",
     "end_time": "2024-09-12T15:46:04.432109Z"
    },
    "collapsed": false
   },
   "outputs": [],
   "source": [
    "# 选择输入模型内的特征(除目标列之外的所有列都可以成为特征)\n",
    "melbourne_features = [\"Rooms\", \"Bathroom\", \"Landsize\", \"Lattitude\", \"Longtitude\"]\n",
    "\n",
    "# 按照惯例，该数据称为 X\n",
    "X = melbourne_data[melbourne_features]"
   ]
  },
  {
   "cell_type": "code",
   "execution_count": 8,
   "metadata": {
    "ExecuteTime": {
     "start_time": "2024-09-12T15:46:04.397402Z",
     "end_time": "2024-09-12T15:46:04.433227Z"
    },
    "collapsed": false
   },
   "outputs": [
    {
     "data": {
      "text/plain": "   Rooms  Bathroom  Landsize  Lattitude  Longtitude\n1      2       1.0     156.0   -37.8079    144.9934\n2      3       2.0     134.0   -37.8093    144.9944\n4      4       1.0     120.0   -37.8072    144.9941\n6      3       2.0     245.0   -37.8024    144.9993\n7      2       1.0     256.0   -37.8060    144.9954",
      "text/html": "<div>\n<style scoped>\n    .dataframe tbody tr th:only-of-type {\n        vertical-align: middle;\n    }\n\n    .dataframe tbody tr th {\n        vertical-align: top;\n    }\n\n    .dataframe thead th {\n        text-align: right;\n    }\n</style>\n<table border=\"1\" class=\"dataframe\">\n  <thead>\n    <tr style=\"text-align: right;\">\n      <th></th>\n      <th>Rooms</th>\n      <th>Bathroom</th>\n      <th>Landsize</th>\n      <th>Lattitude</th>\n      <th>Longtitude</th>\n    </tr>\n  </thead>\n  <tbody>\n    <tr>\n      <th>1</th>\n      <td>2</td>\n      <td>1.0</td>\n      <td>156.0</td>\n      <td>-37.8079</td>\n      <td>144.9934</td>\n    </tr>\n    <tr>\n      <th>2</th>\n      <td>3</td>\n      <td>2.0</td>\n      <td>134.0</td>\n      <td>-37.8093</td>\n      <td>144.9944</td>\n    </tr>\n    <tr>\n      <th>4</th>\n      <td>4</td>\n      <td>1.0</td>\n      <td>120.0</td>\n      <td>-37.8072</td>\n      <td>144.9941</td>\n    </tr>\n    <tr>\n      <th>6</th>\n      <td>3</td>\n      <td>2.0</td>\n      <td>245.0</td>\n      <td>-37.8024</td>\n      <td>144.9993</td>\n    </tr>\n    <tr>\n      <th>7</th>\n      <td>2</td>\n      <td>1.0</td>\n      <td>256.0</td>\n      <td>-37.8060</td>\n      <td>144.9954</td>\n    </tr>\n  </tbody>\n</table>\n</div>"
     },
     "execution_count": 8,
     "metadata": {},
     "output_type": "execute_result"
    }
   ],
   "source": [
    "# 让我们快速回顾一下我们将使用describe 方法和head 方法来预测房价的数据，该方法显示了前几行\n",
    "X.head()"
   ]
  },
  {
   "cell_type": "code",
   "execution_count": 9,
   "metadata": {
    "ExecuteTime": {
     "start_time": "2024-09-12T15:46:04.433227Z",
     "end_time": "2024-09-12T15:46:06.282491Z"
    },
    "collapsed": false
   },
   "outputs": [
    {
     "data": {
      "text/plain": "DecisionTreeRegressor(random_state=1)",
      "text/html": "<style>#sk-container-id-1 {\n  /* Definition of color scheme common for light and dark mode */\n  --sklearn-color-text: black;\n  --sklearn-color-line: gray;\n  /* Definition of color scheme for unfitted estimators */\n  --sklearn-color-unfitted-level-0: #fff5e6;\n  --sklearn-color-unfitted-level-1: #f6e4d2;\n  --sklearn-color-unfitted-level-2: #ffe0b3;\n  --sklearn-color-unfitted-level-3: chocolate;\n  /* Definition of color scheme for fitted estimators */\n  --sklearn-color-fitted-level-0: #f0f8ff;\n  --sklearn-color-fitted-level-1: #d4ebff;\n  --sklearn-color-fitted-level-2: #b3dbfd;\n  --sklearn-color-fitted-level-3: cornflowerblue;\n\n  /* Specific color for light theme */\n  --sklearn-color-text-on-default-background: var(--sg-text-color, var(--theme-code-foreground, var(--jp-content-font-color1, black)));\n  --sklearn-color-background: var(--sg-background-color, var(--theme-background, var(--jp-layout-color0, white)));\n  --sklearn-color-border-box: var(--sg-text-color, var(--theme-code-foreground, var(--jp-content-font-color1, black)));\n  --sklearn-color-icon: #696969;\n\n  @media (prefers-color-scheme: dark) {\n    /* Redefinition of color scheme for dark theme */\n    --sklearn-color-text-on-default-background: var(--sg-text-color, var(--theme-code-foreground, var(--jp-content-font-color1, white)));\n    --sklearn-color-background: var(--sg-background-color, var(--theme-background, var(--jp-layout-color0, #111)));\n    --sklearn-color-border-box: var(--sg-text-color, var(--theme-code-foreground, var(--jp-content-font-color1, white)));\n    --sklearn-color-icon: #878787;\n  }\n}\n\n#sk-container-id-1 {\n  color: var(--sklearn-color-text);\n}\n\n#sk-container-id-1 pre {\n  padding: 0;\n}\n\n#sk-container-id-1 input.sk-hidden--visually {\n  border: 0;\n  clip: rect(1px 1px 1px 1px);\n  clip: rect(1px, 1px, 1px, 1px);\n  height: 1px;\n  margin: -1px;\n  overflow: hidden;\n  padding: 0;\n  position: absolute;\n  width: 1px;\n}\n\n#sk-container-id-1 div.sk-dashed-wrapped {\n  border: 1px dashed var(--sklearn-color-line);\n  margin: 0 0.4em 0.5em 0.4em;\n  box-sizing: border-box;\n  padding-bottom: 0.4em;\n  background-color: var(--sklearn-color-background);\n}\n\n#sk-container-id-1 div.sk-container {\n  /* jupyter's `normalize.less` sets `[hidden] { display: none; }`\n     but bootstrap.min.css set `[hidden] { display: none !important; }`\n     so we also need the `!important` here to be able to override the\n     default hidden behavior on the sphinx rendered scikit-learn.org.\n     See: https://github.com/scikit-learn/scikit-learn/issues/21755 */\n  display: inline-block !important;\n  position: relative;\n}\n\n#sk-container-id-1 div.sk-text-repr-fallback {\n  display: none;\n}\n\ndiv.sk-parallel-item,\ndiv.sk-serial,\ndiv.sk-item {\n  /* draw centered vertical line to link estimators */\n  background-image: linear-gradient(var(--sklearn-color-text-on-default-background), var(--sklearn-color-text-on-default-background));\n  background-size: 2px 100%;\n  background-repeat: no-repeat;\n  background-position: center center;\n}\n\n/* Parallel-specific style estimator block */\n\n#sk-container-id-1 div.sk-parallel-item::after {\n  content: \"\";\n  width: 100%;\n  border-bottom: 2px solid var(--sklearn-color-text-on-default-background);\n  flex-grow: 1;\n}\n\n#sk-container-id-1 div.sk-parallel {\n  display: flex;\n  align-items: stretch;\n  justify-content: center;\n  background-color: var(--sklearn-color-background);\n  position: relative;\n}\n\n#sk-container-id-1 div.sk-parallel-item {\n  display: flex;\n  flex-direction: column;\n}\n\n#sk-container-id-1 div.sk-parallel-item:first-child::after {\n  align-self: flex-end;\n  width: 50%;\n}\n\n#sk-container-id-1 div.sk-parallel-item:last-child::after {\n  align-self: flex-start;\n  width: 50%;\n}\n\n#sk-container-id-1 div.sk-parallel-item:only-child::after {\n  width: 0;\n}\n\n/* Serial-specific style estimator block */\n\n#sk-container-id-1 div.sk-serial {\n  display: flex;\n  flex-direction: column;\n  align-items: center;\n  background-color: var(--sklearn-color-background);\n  padding-right: 1em;\n  padding-left: 1em;\n}\n\n\n/* Toggleable style: style used for estimator/Pipeline/ColumnTransformer box that is\nclickable and can be expanded/collapsed.\n- Pipeline and ColumnTransformer use this feature and define the default style\n- Estimators will overwrite some part of the style using the `sk-estimator` class\n*/\n\n/* Pipeline and ColumnTransformer style (default) */\n\n#sk-container-id-1 div.sk-toggleable {\n  /* Default theme specific background. It is overwritten whether we have a\n  specific estimator or a Pipeline/ColumnTransformer */\n  background-color: var(--sklearn-color-background);\n}\n\n/* Toggleable label */\n#sk-container-id-1 label.sk-toggleable__label {\n  cursor: pointer;\n  display: block;\n  width: 100%;\n  margin-bottom: 0;\n  padding: 0.5em;\n  box-sizing: border-box;\n  text-align: center;\n}\n\n#sk-container-id-1 label.sk-toggleable__label-arrow:before {\n  /* Arrow on the left of the label */\n  content: \"▸\";\n  float: left;\n  margin-right: 0.25em;\n  color: var(--sklearn-color-icon);\n}\n\n#sk-container-id-1 label.sk-toggleable__label-arrow:hover:before {\n  color: var(--sklearn-color-text);\n}\n\n/* Toggleable content - dropdown */\n\n#sk-container-id-1 div.sk-toggleable__content {\n  max-height: 0;\n  max-width: 0;\n  overflow: hidden;\n  text-align: left;\n  /* unfitted */\n  background-color: var(--sklearn-color-unfitted-level-0);\n}\n\n#sk-container-id-1 div.sk-toggleable__content.fitted {\n  /* fitted */\n  background-color: var(--sklearn-color-fitted-level-0);\n}\n\n#sk-container-id-1 div.sk-toggleable__content pre {\n  margin: 0.2em;\n  border-radius: 0.25em;\n  color: var(--sklearn-color-text);\n  /* unfitted */\n  background-color: var(--sklearn-color-unfitted-level-0);\n}\n\n#sk-container-id-1 div.sk-toggleable__content.fitted pre {\n  /* unfitted */\n  background-color: var(--sklearn-color-fitted-level-0);\n}\n\n#sk-container-id-1 input.sk-toggleable__control:checked~div.sk-toggleable__content {\n  /* Expand drop-down */\n  max-height: 200px;\n  max-width: 100%;\n  overflow: auto;\n}\n\n#sk-container-id-1 input.sk-toggleable__control:checked~label.sk-toggleable__label-arrow:before {\n  content: \"▾\";\n}\n\n/* Pipeline/ColumnTransformer-specific style */\n\n#sk-container-id-1 div.sk-label input.sk-toggleable__control:checked~label.sk-toggleable__label {\n  color: var(--sklearn-color-text);\n  background-color: var(--sklearn-color-unfitted-level-2);\n}\n\n#sk-container-id-1 div.sk-label.fitted input.sk-toggleable__control:checked~label.sk-toggleable__label {\n  background-color: var(--sklearn-color-fitted-level-2);\n}\n\n/* Estimator-specific style */\n\n/* Colorize estimator box */\n#sk-container-id-1 div.sk-estimator input.sk-toggleable__control:checked~label.sk-toggleable__label {\n  /* unfitted */\n  background-color: var(--sklearn-color-unfitted-level-2);\n}\n\n#sk-container-id-1 div.sk-estimator.fitted input.sk-toggleable__control:checked~label.sk-toggleable__label {\n  /* fitted */\n  background-color: var(--sklearn-color-fitted-level-2);\n}\n\n#sk-container-id-1 div.sk-label label.sk-toggleable__label,\n#sk-container-id-1 div.sk-label label {\n  /* The background is the default theme color */\n  color: var(--sklearn-color-text-on-default-background);\n}\n\n/* On hover, darken the color of the background */\n#sk-container-id-1 div.sk-label:hover label.sk-toggleable__label {\n  color: var(--sklearn-color-text);\n  background-color: var(--sklearn-color-unfitted-level-2);\n}\n\n/* Label box, darken color on hover, fitted */\n#sk-container-id-1 div.sk-label.fitted:hover label.sk-toggleable__label.fitted {\n  color: var(--sklearn-color-text);\n  background-color: var(--sklearn-color-fitted-level-2);\n}\n\n/* Estimator label */\n\n#sk-container-id-1 div.sk-label label {\n  font-family: monospace;\n  font-weight: bold;\n  display: inline-block;\n  line-height: 1.2em;\n}\n\n#sk-container-id-1 div.sk-label-container {\n  text-align: center;\n}\n\n/* Estimator-specific */\n#sk-container-id-1 div.sk-estimator {\n  font-family: monospace;\n  border: 1px dotted var(--sklearn-color-border-box);\n  border-radius: 0.25em;\n  box-sizing: border-box;\n  margin-bottom: 0.5em;\n  /* unfitted */\n  background-color: var(--sklearn-color-unfitted-level-0);\n}\n\n#sk-container-id-1 div.sk-estimator.fitted {\n  /* fitted */\n  background-color: var(--sklearn-color-fitted-level-0);\n}\n\n/* on hover */\n#sk-container-id-1 div.sk-estimator:hover {\n  /* unfitted */\n  background-color: var(--sklearn-color-unfitted-level-2);\n}\n\n#sk-container-id-1 div.sk-estimator.fitted:hover {\n  /* fitted */\n  background-color: var(--sklearn-color-fitted-level-2);\n}\n\n/* Specification for estimator info (e.g. \"i\" and \"?\") */\n\n/* Common style for \"i\" and \"?\" */\n\n.sk-estimator-doc-link,\na:link.sk-estimator-doc-link,\na:visited.sk-estimator-doc-link {\n  float: right;\n  font-size: smaller;\n  line-height: 1em;\n  font-family: monospace;\n  background-color: var(--sklearn-color-background);\n  border-radius: 1em;\n  height: 1em;\n  width: 1em;\n  text-decoration: none !important;\n  margin-left: 1ex;\n  /* unfitted */\n  border: var(--sklearn-color-unfitted-level-1) 1pt solid;\n  color: var(--sklearn-color-unfitted-level-1);\n}\n\n.sk-estimator-doc-link.fitted,\na:link.sk-estimator-doc-link.fitted,\na:visited.sk-estimator-doc-link.fitted {\n  /* fitted */\n  border: var(--sklearn-color-fitted-level-1) 1pt solid;\n  color: var(--sklearn-color-fitted-level-1);\n}\n\n/* On hover */\ndiv.sk-estimator:hover .sk-estimator-doc-link:hover,\n.sk-estimator-doc-link:hover,\ndiv.sk-label-container:hover .sk-estimator-doc-link:hover,\n.sk-estimator-doc-link:hover {\n  /* unfitted */\n  background-color: var(--sklearn-color-unfitted-level-3);\n  color: var(--sklearn-color-background);\n  text-decoration: none;\n}\n\ndiv.sk-estimator.fitted:hover .sk-estimator-doc-link.fitted:hover,\n.sk-estimator-doc-link.fitted:hover,\ndiv.sk-label-container:hover .sk-estimator-doc-link.fitted:hover,\n.sk-estimator-doc-link.fitted:hover {\n  /* fitted */\n  background-color: var(--sklearn-color-fitted-level-3);\n  color: var(--sklearn-color-background);\n  text-decoration: none;\n}\n\n/* Span, style for the box shown on hovering the info icon */\n.sk-estimator-doc-link span {\n  display: none;\n  z-index: 9999;\n  position: relative;\n  font-weight: normal;\n  right: .2ex;\n  padding: .5ex;\n  margin: .5ex;\n  width: min-content;\n  min-width: 20ex;\n  max-width: 50ex;\n  color: var(--sklearn-color-text);\n  box-shadow: 2pt 2pt 4pt #999;\n  /* unfitted */\n  background: var(--sklearn-color-unfitted-level-0);\n  border: .5pt solid var(--sklearn-color-unfitted-level-3);\n}\n\n.sk-estimator-doc-link.fitted span {\n  /* fitted */\n  background: var(--sklearn-color-fitted-level-0);\n  border: var(--sklearn-color-fitted-level-3);\n}\n\n.sk-estimator-doc-link:hover span {\n  display: block;\n}\n\n/* \"?\"-specific style due to the `<a>` HTML tag */\n\n#sk-container-id-1 a.estimator_doc_link {\n  float: right;\n  font-size: 1rem;\n  line-height: 1em;\n  font-family: monospace;\n  background-color: var(--sklearn-color-background);\n  border-radius: 1rem;\n  height: 1rem;\n  width: 1rem;\n  text-decoration: none;\n  /* unfitted */\n  color: var(--sklearn-color-unfitted-level-1);\n  border: var(--sklearn-color-unfitted-level-1) 1pt solid;\n}\n\n#sk-container-id-1 a.estimator_doc_link.fitted {\n  /* fitted */\n  border: var(--sklearn-color-fitted-level-1) 1pt solid;\n  color: var(--sklearn-color-fitted-level-1);\n}\n\n/* On hover */\n#sk-container-id-1 a.estimator_doc_link:hover {\n  /* unfitted */\n  background-color: var(--sklearn-color-unfitted-level-3);\n  color: var(--sklearn-color-background);\n  text-decoration: none;\n}\n\n#sk-container-id-1 a.estimator_doc_link.fitted:hover {\n  /* fitted */\n  background-color: var(--sklearn-color-fitted-level-3);\n}\n</style><div id=\"sk-container-id-1\" class=\"sk-top-container\"><div class=\"sk-text-repr-fallback\"><pre>DecisionTreeRegressor(random_state=1)</pre><b>In a Jupyter environment, please rerun this cell to show the HTML representation or trust the notebook. <br />On GitHub, the HTML representation is unable to render, please try loading this page with nbviewer.org.</b></div><div class=\"sk-container\" hidden><div class=\"sk-item\"><div class=\"sk-estimator fitted sk-toggleable\"><input class=\"sk-toggleable__control sk-hidden--visually\" id=\"sk-estimator-id-1\" type=\"checkbox\" checked><label for=\"sk-estimator-id-1\" class=\"sk-toggleable__label fitted sk-toggleable__label-arrow fitted\">&nbsp;&nbsp;DecisionTreeRegressor<a class=\"sk-estimator-doc-link fitted\" rel=\"noreferrer\" target=\"_blank\" href=\"https://scikit-learn.org/1.5/modules/generated/sklearn.tree.DecisionTreeRegressor.html\">?<span>Documentation for DecisionTreeRegressor</span></a><span class=\"sk-estimator-doc-link fitted\">i<span>Fitted</span></span></label><div class=\"sk-toggleable__content fitted\"><pre>DecisionTreeRegressor(random_state=1)</pre></div> </div></div></div></div>"
     },
     "execution_count": 9,
     "metadata": {},
     "output_type": "execute_result"
    }
   ],
   "source": [
    "# 导入决策树模型\n",
    "from sklearn.tree import DecisionTreeRegressor\n",
    "#构建和使用模型的步骤是：\n",
    "# 定义：它将是什么类型的模型？决策树？其他类型的模型？还指定了模型类型的一些其他参数。\n",
    "# 拟合：从提供的数据中捕获模式。这是建模的核心。\n",
    "# 预测：正如听起来的那样\n",
    "# 评估：确定模型预测的准确性。\n",
    "\n",
    "# 定义模型。为 random_state 指定一个数字以确保每次运行结果相同\n",
    "melbourne_model = DecisionTreeRegressor(random_state=1)\n",
    "\n",
    "# 拟合模型\n",
    "melbourne_model.fit(X, y)"
   ]
  },
  {
   "cell_type": "code",
   "execution_count": 10,
   "metadata": {
    "ExecuteTime": {
     "start_time": "2024-09-12T15:46:06.282491Z",
     "end_time": "2024-09-12T15:46:06.298111Z"
    },
    "collapsed": false
   },
   "outputs": [
    {
     "name": "stdout",
     "output_type": "stream",
     "text": [
      "Making predictions for the following 5 houses:\n"
     ]
    },
    {
     "data": {
      "text/plain": "   Rooms  Bathroom  Landsize  Lattitude  Longtitude\n1      2       1.0     156.0   -37.8079    144.9934\n2      3       2.0     134.0   -37.8093    144.9944\n4      4       1.0     120.0   -37.8072    144.9941\n6      3       2.0     245.0   -37.8024    144.9993\n7      2       1.0     256.0   -37.8060    144.9954",
      "text/html": "<div>\n<style scoped>\n    .dataframe tbody tr th:only-of-type {\n        vertical-align: middle;\n    }\n\n    .dataframe tbody tr th {\n        vertical-align: top;\n    }\n\n    .dataframe thead th {\n        text-align: right;\n    }\n</style>\n<table border=\"1\" class=\"dataframe\">\n  <thead>\n    <tr style=\"text-align: right;\">\n      <th></th>\n      <th>Rooms</th>\n      <th>Bathroom</th>\n      <th>Landsize</th>\n      <th>Lattitude</th>\n      <th>Longtitude</th>\n    </tr>\n  </thead>\n  <tbody>\n    <tr>\n      <th>1</th>\n      <td>2</td>\n      <td>1.0</td>\n      <td>156.0</td>\n      <td>-37.8079</td>\n      <td>144.9934</td>\n    </tr>\n    <tr>\n      <th>2</th>\n      <td>3</td>\n      <td>2.0</td>\n      <td>134.0</td>\n      <td>-37.8093</td>\n      <td>144.9944</td>\n    </tr>\n    <tr>\n      <th>4</th>\n      <td>4</td>\n      <td>1.0</td>\n      <td>120.0</td>\n      <td>-37.8072</td>\n      <td>144.9941</td>\n    </tr>\n    <tr>\n      <th>6</th>\n      <td>3</td>\n      <td>2.0</td>\n      <td>245.0</td>\n      <td>-37.8024</td>\n      <td>144.9993</td>\n    </tr>\n    <tr>\n      <th>7</th>\n      <td>2</td>\n      <td>1.0</td>\n      <td>256.0</td>\n      <td>-37.8060</td>\n      <td>144.9954</td>\n    </tr>\n  </tbody>\n</table>\n</div>"
     },
     "execution_count": 10,
     "metadata": {},
     "output_type": "execute_result"
    }
   ],
   "source": [
    "# 在实践中，您需要对市场上即将上市的新房屋进行预测，而不是对我们已经有价格的房屋进行预测。但我们将对训练数据的前几行进行预测，以了解预测函数的工作原理。\n",
    "print(\"Making predictions for the following 5 houses:\")\n",
    "X.head()"
   ]
  },
  {
   "cell_type": "code",
   "execution_count": 11,
   "metadata": {
    "ExecuteTime": {
     "start_time": "2024-09-12T15:46:06.298111Z",
     "end_time": "2024-09-12T15:46:06.393407Z"
    },
    "collapsed": false
   },
   "outputs": [
    {
     "name": "stdout",
     "output_type": "stream",
     "text": [
      "The predictions are\n"
     ]
    },
    {
     "data": {
      "text/plain": "array([1035000., 1465000., 1600000., 1876000., 1636000.])"
     },
     "execution_count": 11,
     "metadata": {},
     "output_type": "execute_result"
    }
   ],
   "source": [
    "print(\"The predictions are\")\n",
    "melbourne_model.predict(X.head())"
   ]
  },
  {
   "cell_type": "code",
   "execution_count": 12,
   "metadata": {
    "ExecuteTime": {
     "start_time": "2024-09-12T15:46:06.313746Z",
     "end_time": "2024-09-12T15:46:06.431352Z"
    },
    "collapsed": false
   },
   "outputs": [
    {
     "name": "stdout",
     "output_type": "stream",
     "text": [
      "1115.7467183128902\n"
     ]
    },
    {
     "data": {
      "text/plain": "'使用训练数据进行模型评估容易出现过拟合(在训练数据表现好，在新数据表现差)'"
     },
     "execution_count": 12,
     "metadata": {},
     "output_type": "execute_result"
    }
   ],
   "source": [
    "# 一旦我们有了模型，我们就可以计算平均绝对误差\n",
    "from sklearn.metrics import mean_absolute_error\n",
    "\n",
    "# 定义预测价格\n",
    "predicted_home_prices = melbourne_model.predict(X)\n",
    "\n",
    "# 计算预测值和真实值之间的绝对误差的平均值来衡量模型的表现。\n",
    "mean_absolute_error(y, predicted_home_prices)\n",
    "print(mean_absolute_error(y, predicted_home_prices))\n",
    "\"\"\"使用训练数据进行模型评估容易出现过拟合(在训练数据表现好，在新数据表现差)\"\"\""
   ]
  },
  {
   "cell_type": "code",
   "execution_count": 13,
   "metadata": {
    "ExecuteTime": {
     "start_time": "2024-09-12T15:46:06.329359Z",
     "end_time": "2024-09-12T15:46:06.497431Z"
    },
    "collapsed": false
   },
   "outputs": [
    {
     "data": {
      "text/plain": "'在上述代码中使用分割数据方法，让训练数据只用于训练，模型评估使用未出现的验证数据，提高泛化能力'"
     },
     "execution_count": 13,
     "metadata": {},
     "output_type": "execute_result"
    }
   ],
   "source": [
    "# scikit-learn 库有一个函数 train_test_split 将数据分成两部分。\n",
    "# 我们将使用其中一些数据作为训练数据来拟合模型，并使用其他数据作为验证数据来计算mean_absolute_error。\n",
    "from sklearn.model_selection import train_test_split\n",
    "\n",
    "# 将数据分为训练数据和验证数据，分别用于特征和目标\n",
    "# 分割基于随机数生成器。提供一个数值\n",
    "# random_state 参数保证我们每次都会得到相同的分割\n",
    "# 运行这个脚本。\n",
    "\n",
    "train_X, val_X, train_y, val_y = train_test_split(X, y, random_state=0)\n",
    "\"\"\"\n",
    "train_X: 使用分割好的训练特征(跟价格有关的指标)进行拟合模型\n",
    "val_X: 将该验证训练特征放入训练好的模型得到预测值\n",
    "train_y: 使用分割好的预测值(价格)进行拟合模型\n",
    "val_y: 使用该验证预测值(价格)和预测结果值进行计算误差\n",
    "\"\"\"\n",
    "# 定义模型\n",
    "melbourne_model = DecisionTreeRegressor()\n",
    "# 拟合模型\n",
    "melbourne_model.fit(train_X, train_y)\n",
    "\n",
    "# 获取验证数据的预测价格\n",
    "val_predictions = melbourne_model.predict(val_X)\n",
    "mean_absolute_error(val_y, val_predictions)\n",
    "\n",
    "\"\"\"在上述代码中使用分割数据方法，让训练数据只用于训练，模型评估使用未出现的验证数据，提高泛化能力\"\"\""
   ]
  },
  {
   "cell_type": "code",
   "execution_count": 14,
   "metadata": {
    "ExecuteTime": {
     "start_time": "2024-09-12T15:46:06.393407Z",
     "end_time": "2024-09-12T15:46:06.497431Z"
    }
   },
   "outputs": [
    {
     "data": {
      "text/plain": "np.float64(275811.92123950936)"
     },
     "execution_count": 14,
     "metadata": {},
     "output_type": "execute_result"
    }
   ],
   "source": [
    "mean_absolute_error(val_y, val_predictions)"
   ]
  },
  {
   "cell_type": "markdown",
   "metadata": {},
   "source": [
    "我们可以使用实用函数来帮助比较 max_leaf_nodes 不同值的 MAE 分数"
   ]
  },
  {
   "cell_type": "code",
   "execution_count": 15,
   "metadata": {
    "ExecuteTime": {
     "start_time": "2024-09-12T15:46:06.408659Z",
     "end_time": "2024-09-12T15:46:06.623032Z"
    }
   },
   "outputs": [],
   "source": [
    "from sklearn.metrics import mean_absolute_error\n",
    "from sklearn.tree import DecisionTreeRegressor\n",
    "\n",
    "def get_mat(max_leaf_nodes, train_X, val_X, train_y, val_y):\n",
    "    model = DecisionTreeRegressor(max_leaf_nodes=max_leaf_nodes, random_state=0)\n",
    "    model.fit(train_X, train_y)\n",
    "\n",
    "    preds_val = model.predict(val_X)\n",
    "    mae = mean_absolute_error(val_y, preds_val)\n",
    "\n",
    "    return mae"
   ]
  },
  {
   "cell_type": "markdown",
   "source": [
    "我们可以使用 for 循环来比较使用不同 max_leaf_nodes 值构建的模型的准确性。"
   ],
   "metadata": {
    "collapsed": false
   }
  },
  {
   "cell_type": "code",
   "execution_count": 16,
   "outputs": [
    {
     "name": "stdout",
     "output_type": "stream",
     "text": [
      "max leaf node: 5, mae: 385696.54278937966\n",
      "max leaf node: 50, mae: 279794.61143891385\n",
      "max leaf node: 500, mae: 261718.1134423186\n",
      "max leaf node: 5000, mae: 271320.97310092533\n"
     ]
    }
   ],
   "source": [
    "for max_leaf_nodes in [5, 50, 500, 5000]:\n",
    "    my_mae = get_mat(max_leaf_nodes, train_X, val_X, train_y, val_y)\n",
    "    print(f\"max leaf node: {max_leaf_nodes}, mae: {my_mae}\")"
   ],
   "metadata": {
    "collapsed": false,
    "ExecuteTime": {
     "start_time": "2024-09-12T15:46:06.429344Z",
     "end_time": "2024-09-12T15:46:06.669899Z"
    }
   }
  },
  {
   "cell_type": "markdown",
   "source": [
    "过拟合：训练过多，导致对训练数据预测精确对新数据预测表现差\n",
    "欠拟合：训练过少，导致未捕捉到特征从而预测结果表现差"
   ],
   "metadata": {
    "collapsed": false
   }
  },
  {
   "cell_type": "markdown",
   "source": [
    "通过上述所得到的最佳节点，使用全部数据进行训练，得到预测值"
   ],
   "metadata": {
    "collapsed": false
   }
  },
  {
   "cell_type": "code",
   "execution_count": 17,
   "outputs": [
    {
     "data": {
      "text/plain": "np.float64(126642.40540214001)"
     },
     "execution_count": 17,
     "metadata": {},
     "output_type": "execute_result"
    }
   ],
   "source": [
    "best_node = 500\n",
    "best_node_model = DecisionTreeRegressor(max_leaf_nodes=500, random_state=0)\n",
    "best_node_model.fit(X, y)\n",
    "predicted_best = best_node_model.predict(X)\n",
    "mean_absolute_error(y, predicted_best)"
   ],
   "metadata": {
    "collapsed": false,
    "ExecuteTime": {
     "start_time": "2024-09-12T15:46:06.544435Z",
     "end_time": "2024-09-12T15:46:06.669899Z"
    }
   }
  },
  {
   "cell_type": "markdown",
   "source": [
    "我们构建一个随机森林模型，类似于在 scikit-learn 中构建决策树的方式 - 这次使用 RandomForestRegressor 类而不是 DecisionTreeRegressor。"
   ],
   "metadata": {
    "collapsed": false
   }
  },
  {
   "cell_type": "code",
   "execution_count": 18,
   "outputs": [
    {
     "data": {
      "text/plain": "np.float64(206868.39967967046)"
     },
     "execution_count": 18,
     "metadata": {},
     "output_type": "execute_result"
    }
   ],
   "source": [
    "from sklearn.ensemble import RandomForestRegressor\n",
    "from sklearn.metrics import mean_absolute_error\n",
    "\n",
    "# 建立模型\n",
    "forest_model = RandomForestRegressor(random_state=0)\n",
    "# 拟合\n",
    "forest_model.fit(train_X, train_y)\n",
    "# 预测\n",
    "melb_preds = forest_model.predict(val_X)\n",
    "mae = mean_absolute_error(val_y, melb_preds)\n",
    "mae"
   ],
   "metadata": {
    "collapsed": false,
    "ExecuteTime": {
     "start_time": "2024-09-12T15:46:06.591770Z",
     "end_time": "2024-09-12T15:46:09.203163Z"
    }
   }
  },
  {
   "cell_type": "markdown",
   "source": [
    "# 处理缺失值(null)"
   ],
   "metadata": {
    "collapsed": false
   }
  },
  {
   "cell_type": "code",
   "execution_count": 19,
   "outputs": [],
   "source": [
    "import pandas as pd\n",
    "from sklearn.model_selection import train_test_split\n",
    "\n",
    "# 导入数据\n",
    "data = pd.read_csv(\"D:\\code\\skill\\Machine_Learning\\melb_data.csv\")\n",
    "\n",
    "# 选择目标\n",
    "y = data.Price\n",
    "\n",
    "# 为了简单起见，我们将仅使用数值预测变量\n",
    "melb_predictors = data.drop([\"Price\"], axis=\"columns\")\n",
    "# melb_predictors\n",
    "# 即排除非数值型数据，object 类型通常是字符串或类别型数据\n",
    "X = melb_predictors.select_dtypes(exclude=[\"object\"])\n",
    "# 将除了价格外全部的例作为特征\n",
    "\n",
    "# 划分训练集和测试集\n",
    "train_X, val_X, train_y, val_y = train_test_split(X, y, train_size=0.8, test_size=0.2, random_state=0)"
   ],
   "metadata": {
    "collapsed": false,
    "ExecuteTime": {
     "start_time": "2024-09-12T15:46:09.203163Z",
     "end_time": "2024-09-12T15:46:09.281637Z"
    }
   }
  },
  {
   "cell_type": "code",
   "execution_count": 20,
   "outputs": [],
   "source": [
    "from sklearn.ensemble import RandomForestRegressor\n",
    "from sklearn.metrics import mean_absolute_error\n",
    "\n",
    "# 比较不同方法的函数\n",
    "def score_dataset(train_X, val_X, train_y, val_y):\n",
    "    model = RandomForestRegressor(n_estimators=10, random_state=0)\n",
    "    model.fit(train_X, train_y)\n",
    "    preds = model.predict(val_X)\n",
    "    mae = mean_absolute_error(val_y, preds)\n",
    "\n",
    "    return mae"
   ],
   "metadata": {
    "collapsed": false,
    "ExecuteTime": {
     "start_time": "2024-09-12T15:46:09.281637Z",
     "end_time": "2024-09-12T15:46:09.297446Z"
    }
   }
  },
  {
   "cell_type": "markdown",
   "source": [
    "## 法1：删除缺失值的列"
   ],
   "metadata": {
    "collapsed": false
   }
  },
  {
   "cell_type": "code",
   "execution_count": 21,
   "outputs": [
    {
     "name": "stdout",
     "output_type": "stream",
     "text": [
      "删除缺失值:\n",
      "mae=183550.22137772635\n"
     ]
    }
   ],
   "source": [
    "# 找出包含缺失值的列\n",
    "# .isnull()：检查某列中的每个值是否为空，返回布尔值（True 或 False）。\n",
    "# .any()：检查是否有至少一个 True，即该列是否存在缺失值。\n",
    "cols_with_missing = [col for col in X.columns\n",
    "                     if train_X[col].isnull().any()]\n",
    "# cols_with_missing\n",
    "\n",
    "# 删除有缺失行的列\n",
    "reduced_train_X = train_X.drop(cols_with_missing, axis=\"columns\")\n",
    "reduced_val_X = val_X.drop(cols_with_missing, axis=\"columns\")\n",
    "\n",
    "# 输出误差值\n",
    "print(f\"删除缺失值:\\nmae={score_dataset(reduced_train_X, reduced_val_X, train_y, val_y)}\")"
   ],
   "metadata": {
    "collapsed": false,
    "ExecuteTime": {
     "start_time": "2024-09-12T15:46:09.302835Z",
     "end_time": "2024-09-12T15:46:10.110412Z"
    }
   }
  },
  {
   "cell_type": "markdown",
   "source": [
    "# 法2：简单插补"
   ],
   "metadata": {
    "collapsed": false
   }
  },
  {
   "cell_type": "code",
   "execution_count": 22,
   "outputs": [
    {
     "name": "stdout",
     "output_type": "stream",
     "text": [
      "插补缺失值:\n",
      "mae=178166.46269899711\n"
     ]
    }
   ],
   "source": [
    "# 导入填充数据包\n",
    "from sklearn.impute import SimpleImputer\n",
    "\n",
    "# 填充\n",
    "my_imputer = SimpleImputer()\n",
    "# fit()：学习数据中的统计信息（例如每一列的均值、众数、中位数等，取决于填充策略），并将这些统计信息存储起来，以后可以用这些规则填充缺失值。\n",
    "# transform()：使用之前学到的规则，填充原数据中的缺失值。\n",
    "imputed_train_X = pd.DataFrame(my_imputer.fit_transform(train_X))\n",
    "imputed_val_X = pd.DataFrame(my_imputer.transform(val_X))\n",
    "\n",
    "# 由于前面得到的DataFrame类型没有列名，因此需要加入原始数据的列名\n",
    "imputed_train_X.columns = train_X.columns\n",
    "imputed_val_X.columns = val_X.columns\n",
    "\n",
    "print(f\"插补缺失值:\\nmae={score_dataset(imputed_train_X, imputed_val_X, train_y, val_y)}\")"
   ],
   "metadata": {
    "collapsed": false,
    "ExecuteTime": {
     "start_time": "2024-09-12T15:46:10.079162Z",
     "end_time": "2024-09-12T15:46:11.095536Z"
    }
   }
  },
  {
   "cell_type": "markdown",
   "source": [
    "# 法3：插补扩展法(法2的基础上加入了额外的特征列表明哪些列存在缺失值)\n",
    "> 一开始特征列值为True或False，后面进行填充后变成了1或0"
   ],
   "metadata": {
    "collapsed": false
   }
  },
  {
   "cell_type": "code",
   "execution_count": 23,
   "outputs": [
    {
     "name": "stdout",
     "output_type": "stream",
     "text": [
      "插补扩展法缺失值:\n",
      "mae=178927.503183954\n"
     ]
    }
   ],
   "source": [
    "# 估算缺失值，同时还跟踪估算了哪些值\n",
    "# 复制原始信息，防止原始数据被修改\n",
    "train_X_plus = train_X.copy()\n",
    "val_X_plus = val_X.copy()\n",
    "\n",
    "# 创建新的列指定缺失值位置\n",
    "for col in cols_with_missing:\n",
    "    train_X_plus[col + \"_was_missing\"] = train_X_plus[col].isnull()\n",
    "    val_X_plus[col + \"_was_missing\"] = val_X_plus[col].isnull()\n",
    "\n",
    "# train_X_plus\n",
    "# val_X_plus\n",
    "\n",
    "# 填充\n",
    "my_imputer = SimpleImputer()\n",
    "imputed_train_X_plus = pd.DataFrame(my_imputer.fit_transform(train_X_plus))\n",
    "imputed_val_X_plus = pd.DataFrame(my_imputer.transform(val_X_plus))\n",
    "\n",
    "# imputed_train_X_plus\n",
    "# 将填充的列加入列名\n",
    "imputed_train_X_plus.columns = train_X_plus.columns\n",
    "imputed_val_X_plus.columns = val_X_plus.columns\n",
    "# imputed_train_X_plus\n",
    "\n",
    "print(f\"插补扩展法缺失值:\\nmae={score_dataset(imputed_train_X_plus, imputed_val_X_plus, train_y, val_y)}\")"
   ],
   "metadata": {
    "collapsed": false,
    "ExecuteTime": {
     "start_time": "2024-09-12T15:46:11.095536Z",
     "end_time": "2024-09-12T15:46:12.143958Z"
    }
   }
  },
  {
   "cell_type": "markdown",
   "source": [
    "# 分类变量(object)"
   ],
   "metadata": {
    "collapsed": false
   }
  },
  {
   "cell_type": "code",
   "execution_count": 24,
   "outputs": [],
   "source": [
    "import pandas as pd\n",
    "from sklearn.model_selection import train_test_split\n",
    "\n",
    "# 导入文件\n",
    "data = pd.read_csv(\"D:\\code\\skill\\Machine_Learning\\melb_data.csv\")\n",
    "\n",
    "# 选择特征和预测目标\n",
    "X = data.drop([\"Price\"], axis=\"columns\")\n",
    "y = data.Price\n",
    "\n",
    "# 划分训练集和验证集\n",
    "train_X, val_X, train_y, val_y = train_test_split(X, y, train_size=0.8, test_size=0.2, random_state=0)\n",
    "\n",
    "# 防止原始数据被修改\n",
    "train_X_plus = train_X.copy()\n",
    "val_X_plus = val_X.copy()\n",
    "\n",
    "# 使用删除缺失值法\n",
    "columns_missing = [col for col in train_X_plus.columns if train_X_plus[col].isnull().any()]\n",
    "reduced_train_X = train_X_plus.drop(columns_missing, axis=\"columns\")\n",
    "reduced_val_X = val_X_plus.drop(columns_missing, axis=\"columns\")\n",
    "\n",
    "# “基数”表示列中唯一值的数量\n",
    "# 选择基数相对较低的分类列（方便分类）\n",
    "low_cardinality_cols = [col for col in reduced_train_X.columns\n",
    "                        if reduced_train_X[col].nunique() < 10\n",
    "                        and reduced_train_X[col].dtype == \"object\"]\n",
    "# nunique(),输出该列唯一值的数量，即基数\n",
    "# dtype == \"object\"，在pandas中，object类型表示str字符串类型\n",
    "\n",
    "# 选择数值列\n",
    "number_col = [col for col in reduced_train_X.columns\n",
    "              if reduced_train_X[col].dtype in [\"int64\", \"float64\"]]\n",
    "\n",
    "# 创建分类数据的训练集\n",
    "new_cols = low_cardinality_cols + number_col\n",
    "new_train_X = train_X[new_cols].copy()\n",
    "new_val_X = val_X[new_cols].copy()\n"
   ],
   "metadata": {
    "collapsed": false,
    "ExecuteTime": {
     "start_time": "2024-09-12T15:46:12.143958Z",
     "end_time": "2024-09-12T15:46:12.253517Z"
    }
   }
  },
  {
   "cell_type": "markdown",
   "source": [
    "## 分类列"
   ],
   "metadata": {
    "collapsed": false
   }
  },
  {
   "cell_type": "code",
   "execution_count": 25,
   "outputs": [
    {
     "name": "stdout",
     "output_type": "stream",
     "text": [
      "['Type', 'Method', 'Regionname']\n"
     ]
    }
   ],
   "source": [
    "obj = (new_train_X.dtypes == \"object\")\n",
    "# print(obj)\n",
    "# print(obj[obj])\n",
    "object_cols = list(obj[obj].index)\n",
    "print(object_cols) # low_cardinality_cols"
   ],
   "metadata": {
    "collapsed": false,
    "ExecuteTime": {
     "start_time": "2024-09-12T15:46:12.237748Z",
     "end_time": "2024-09-12T15:46:12.253517Z"
    }
   }
  },
  {
   "cell_type": "markdown",
   "source": [
    "定义衡量各种方法性能的函数"
   ],
   "metadata": {
    "collapsed": false
   }
  },
  {
   "cell_type": "code",
   "execution_count": 26,
   "outputs": [],
   "source": [
    "from sklearn.ensemble import RandomForestRegressor\n",
    "from sklearn.metrics import mean_absolute_error\n",
    "\n",
    "def score_dataset(train_X, val_X, train_y, val_y):\n",
    "    model = RandomForestRegressor(random_state=0)\n",
    "    model.fit(train_X, train_y)\n",
    "    preds = model.predict(val_X)\n",
    "    return mean_absolute_error(val_y, preds)"
   ],
   "metadata": {
    "collapsed": false,
    "ExecuteTime": {
     "start_time": "2024-09-12T15:46:12.253517Z",
     "end_time": "2024-09-12T15:46:12.269060Z"
    }
   }
  },
  {
   "cell_type": "markdown",
   "source": [
    "# 法1：删除分类列"
   ],
   "metadata": {
    "collapsed": false
   }
  },
  {
   "cell_type": "code",
   "execution_count": 27,
   "outputs": [
    {
     "name": "stdout",
     "output_type": "stream",
     "text": [
      "删除分类列分类变量:\n",
      "mae=175703.48185157913\n"
     ]
    }
   ],
   "source": [
    "drop_train_X = new_train_X.select_dtypes(exclude=[\"object\"])\n",
    "drop_val_X = new_val_X.select_dtypes(exclude=[\"object\"])\n",
    "\n",
    "print(f\"删除分类列分类变量:\\nmae={score_dataset(drop_train_X, drop_val_X, train_y, val_y)}\")"
   ],
   "metadata": {
    "collapsed": false,
    "ExecuteTime": {
     "start_time": "2024-09-12T15:46:12.269060Z",
     "end_time": "2024-09-12T15:46:19.637674Z"
    }
   }
  },
  {
   "cell_type": "markdown",
   "source": [
    "# 法2：OrdinalEncoder(为每一个分类对象转换一个等级，等级越高值越高)"
   ],
   "metadata": {
    "collapsed": false
   }
  },
  {
   "cell_type": "code",
   "execution_count": 28,
   "outputs": [
    {
     "name": "stdout",
     "output_type": "stream",
     "text": [
      "OrdinalEncoder分类变量:\n",
      "mae=165936.40548390493\n"
     ]
    }
   ],
   "source": [
    "from sklearn.preprocessing import OrdinalEncoder\n",
    "\n",
    "# 备份数据\n",
    "ordinal_train_X = new_train_X.copy()\n",
    "ordinal_val_X = new_val_X.copy()\n",
    "\n",
    "# 对每一行的分类数据使用方法\n",
    "ordinal_encoder = OrdinalEncoder()\n",
    "# 对分类列定义等级\n",
    "ordinal_train_X[object_cols] = ordinal_encoder.fit_transform(ordinal_train_X[object_cols])\n",
    "ordinal_val_X[object_cols] = ordinal_encoder.transform(ordinal_val_X[object_cols])\n",
    "\n",
    "print(f\"OrdinalEncoder分类变量:\\nmae={score_dataset(ordinal_train_X, ordinal_val_X, train_y, val_y)}\")"
   ],
   "metadata": {
    "collapsed": false,
    "ExecuteTime": {
     "start_time": "2024-09-12T15:46:19.637674Z",
     "end_time": "2024-09-12T15:46:27.377802Z"
    }
   }
  },
  {
   "cell_type": "markdown",
   "source": [
    "# 法3：One-Hot Encoding(独热编码)最优\n",
    "> 新建数据，列名为类别名称，列内容为1/0"
   ],
   "metadata": {
    "collapsed": false
   }
  },
  {
   "cell_type": "code",
   "execution_count": 51,
   "outputs": [
    {
     "name": "stdout",
     "output_type": "stream",
     "text": [
      "One-Hot Encoding分类变量:\n",
      "mae=165699.58889227855\n"
     ]
    }
   ],
   "source": [
    "from sklearn.preprocessing import OneHotEncoder\n",
    "\n",
    "# 将独热编码运用于分类数据中\n",
    "# 设置handle_unknown ='ignore'以避免当验证数据包含训练数据中未表示的类时出现错误\n",
    "# sparse_output = False 确保编码列作为 numpy 数组（而不是稀疏矩阵）返回\n",
    "OH_encoder = OneHotEncoder(handle_unknown=\"ignore\", sparse_output=False)\n",
    "OH_train_col = pd.DataFrame(OH_encoder.fit_transform(new_train_X[object_cols]))\n",
    "OH_val_col= pd.DataFrame(OH_encoder.transform(new_val_X[object_cols]))\n",
    "\n",
    "# 给OH_col加入原始索引值index，即最左边一列名称\n",
    "OH_train_col.index = new_train_X.index\n",
    "OH_val_col.index = new_val_X.index\n",
    "\n",
    "# 新创建除了分类列的数据，加入OH_col中\n",
    "train_X_OH = new_train_X.drop(object_cols, axis=\"columns\")\n",
    "val_X_OH = new_val_X.drop(object_cols, axis=\"columns\")\n",
    "\n",
    "# 将两组数据合并\n",
    "OH_train_X = pd.concat([OH_train_col, train_X_OH], axis=\"columns\")\n",
    "OH_val_X = pd.concat([OH_val_col, val_X_OH], axis=\"columns\")\n",
    "\n",
    "# 确保每列列名为字符串类型\n",
    "# TODO:处理数据都要确保列名类型为字符串类型\n",
    "OH_train_X.columns = OH_train_X.columns.astype(str)\n",
    "OH_val_X.columns = OH_val_X.columns.astype(str)\n",
    "\n",
    "print(f\"One-Hot Encoding分类变量:\\nmae={score_dataset(OH_train_X, OH_val_X, train_y, val_y)}\")"
   ],
   "metadata": {
    "collapsed": false,
    "ExecuteTime": {
     "start_time": "2024-09-12T16:11:43.848224Z",
     "end_time": "2024-09-12T16:11:50.741459Z"
    }
   }
  }
 ],
 "metadata": {
  "kernelspec": {
   "display_name": "Python 3",
   "language": "python",
   "name": "python3"
  },
  "language_info": {
   "codemirror_mode": {
    "name": "ipython",
    "version": 3
   },
   "file_extension": ".py",
   "mimetype": "text/x-python",
   "name": "python",
   "nbconvert_exporter": "python",
   "pygments_lexer": "ipython3",
   "version": "3.10.14"
  }
 },
 "nbformat": 4,
 "nbformat_minor": 0
}
